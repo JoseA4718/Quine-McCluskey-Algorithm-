{
 "cells": [
  {
   "cell_type": "markdown",
   "id": "5069fa4b",
   "metadata": {},
   "source": [
    "# Cuaderno de ejecución del algoritmo Quine-McCluskey\n"
   ]
  },
  {
   "cell_type": "markdown",
   "id": "b385f54a",
   "metadata": {},
   "source": [
    "## Funcionamiento del código Quine-McCluskey\n",
    "\n",
    "1. En primer lugar, se piden el número de variables a trabajar con el algoritmo.\n",
    "2. Seguidamente se ponen los diferentes mintérminos necesarios, y se insertan en la variable array.\n",
    "3. Posterior a esto se convierten los mintérminos a binario. \n",
    "4. Se agrupan los minterminos por la cantidad de unos en la representación binaria.\n",
    "5. Se buscan los implicantes primos mediante la simplificación de mintérminos que difieren en un solo bit, este proceso repite recursivamente.\n",
    "6. Luego se encuentran los implicantes primos esenciales, mediante una función que retoma los mintérminos primos de los que está compuesto y si solo se encuentra un implicante primo se toma como esencial, este proceso también es recursivo.\n",
    "7. Después mediante una biblioteca de constantes se asigna a cada cifra del número binario una letra mayuscula, y por último si la cifra tiene valor de uno se le ponen la letra y si es cero se pone la letra negada.\n",
    "8. Finalmente, con las expresiones obtenidas en el punto anterior las cuales se guardan en un array, se dividen con el símbolo de \"+\" obteniendo así la expresión simplificada al máximo."
   ]
  },
  {
   "cell_type": "code",
   "execution_count": null,
   "id": "191fec62",
   "metadata": {
    "scrolled": false
   },
   "outputs": [],
   "source": [
    "import Quine_McCluskey\n",
    "import time\n",
    "\n",
    "print(\"Inserte el número de variables:\")\n",
    "var = int(input())\n",
    "x = 0\n",
    "array = []\n",
    "\n",
    "while x != var:\n",
    "    print(\"Inserte el valor de uno de los mintérminos\")\n",
    "    array.append(int(input()))\n",
    "    x += 1\n",
    "if var != x:\n",
    "    print(\"Los minterminos puestos no son la misma cantidad ingresada al inicio\")\n",
    "else:\n",
    "    start = time.time()\n",
    "    array.sort()\n",
    "    binary_array = Quine_McCluskey.to_binary(array)\n",
    "    binary_array.sort()\n",
    "    grouped_array = Quine_McCluskey.group_1s(binary_array)\n",
    "    grouped_array.sort()\n",
    "    prime_implicants = Quine_McCluskey.prime_implicant_search(grouped_array)\n",
    "    prime_implicants = Quine_McCluskey.remove_repeated(prime_implicants)\n",
    "    essential_prime_implicants = Quine_McCluskey.essential_implicant_search(prime_implicants)\n",
    "    terms = Quine_McCluskey.turn_boolean(essential_prime_implicants)\n",
    "    Quine_McCluskey.boolean_equation(terms)\n",
    "    finish = time.time()\n",
    "\n",
    "    print(\"La ejecucion se hizo en: \" + str(finish-start) + \"segundos.\")"
   ]
  }
 ],
 "metadata": {
  "kernelspec": {
   "display_name": "Python 3 (ipykernel)",
   "language": "python",
   "name": "python3"
  },
  "language_info": {
   "codemirror_mode": {
    "name": "ipython",
    "version": 3
   },
   "file_extension": ".py",
   "mimetype": "text/x-python",
   "name": "python",
   "nbconvert_exporter": "python",
   "pygments_lexer": "ipython3",
   "version": "3.9.12"
  }
 },
 "nbformat": 4,
 "nbformat_minor": 5
}
