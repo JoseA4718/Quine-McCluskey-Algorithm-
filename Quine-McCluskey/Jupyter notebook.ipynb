{
 "cells": [
  {
   "cell_type": "markdown",
   "id": "5069fa4b",
   "metadata": {},
   "source": [
    "# Cuaderno de ejecución del algoritmo Quine-McCluskey\n"
   ]
  },
  {
   "cell_type": "code",
   "execution_count": 2,
   "id": "1e2d9d77",
   "metadata": {
    "scrolled": true
   },
   "outputs": [
    {
     "name": "stdout",
     "output_type": "stream",
     "text": [
      "Inserte el número de variables:\n",
      "5\n",
      "Inserte el valor de uno de los mintérminos\n",
      " 6\n",
      "Inserte el valor de uno de los mintérminos\n",
      "5\n",
      "Inserte el valor de uno de los mintérminos\n",
      "4\n",
      "Inserte el valor de uno de los mintérminos\n",
      "2\n",
      "Inserte el valor de uno de los mintérminos\n",
      "9\n",
      "Paso 1: Mintérminos insertados a binario: ['0010', '0100', '0101', '0110', '1001']\n",
      "Paso 2: La lista agrupada por cantidad de 1s es la siguiente: [[1, '0010', '0100'], [2, '0101', '0110', '1001']]\n",
      "Paso 2: La lista agrupada por cantidad de 1s es la siguiente: [[1, '0X10', '010X', '01X0']]\n",
      "Paso 3: La lista de implicantes primos es la siguiente: ['0X10', '010X', '01X0']\n",
      "Paso 3: La lista de implicantes primos es la siguiente: ['0X10', '010X', '01X0', '1001']\n",
      "Los implicantes primos con los valores repetidos eliminados es: ['0X10', '010X', '01X0', '1001']\n",
      "Los implicantes primos esenciales son los siguientes: ['0X10', '010X', '01X0', '1001']\n",
      "La ecuacion booleana de los minterminos dados es: Y =  A'CD' +  A'BC' +  A'BD' +  AB'C'D\n",
      "La ejecucion se hizo en: 0.0010001659393310547segundos.\n"
     ]
    }
   ],
   "source": [
    "import Quine_McCluskey\n",
    "import time\n",
    "\n",
    "print(\"Inserte el número de variables:\")\n",
    "var = int(input())\n",
    "x = 0\n",
    "array = []\n",
    "\n",
    "while x != var:\n",
    "    print(\"Inserte el valor de uno de los mintérminos\")\n",
    "    array.append(int(input()))\n",
    "    x += 1\n",
    "if var != x:\n",
    "    print(\"Los minterminos puestos no son la misma cantidad ingresada al inicio\")\n",
    "else:\n",
    "    start = time.time()\n",
    "    array.sort()\n",
    "    binary_array = Quine_McCluskey.to_binary(array)\n",
    "    binary_array.sort()\n",
    "    grouped_array = Quine_McCluskey.group_1s(binary_array)\n",
    "    grouped_array.sort()\n",
    "    prime_implicants = Quine_McCluskey.prime_implicant_search(grouped_array)\n",
    "    prime_implicants = Quine_McCluskey.remove_repeated(prime_implicants)\n",
    "    essential_prime_implicants = Quine_McCluskey.essential_implicant_search(prime_implicants)\n",
    "    terms = Quine_McCluskey.turn_boolean(essential_prime_implicants)\n",
    "    Quine_McCluskey.boolean_equation(terms)\n",
    "    finish = time.time()\n",
    "\n",
    "    print(\"La ejecucion se hizo en: \" + str(finish-start) + \"segundos.\")"
   ]
  },
  {
   "cell_type": "code",
   "execution_count": null,
   "id": "75057e0d",
   "metadata": {},
   "outputs": [],
   "source": []
  }
 ],
 "metadata": {
  "kernelspec": {
   "display_name": "Python 3 (ipykernel)",
   "language": "python",
   "name": "python3"
  },
  "language_info": {
   "codemirror_mode": {
    "name": "ipython",
    "version": 3
   },
   "file_extension": ".py",
   "mimetype": "text/x-python",
   "name": "python",
   "nbconvert_exporter": "python",
   "pygments_lexer": "ipython3",
   "version": "3.9.12"
  }
 },
 "nbformat": 4,
 "nbformat_minor": 5
}
